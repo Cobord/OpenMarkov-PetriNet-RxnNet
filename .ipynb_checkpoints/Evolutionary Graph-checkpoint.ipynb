{
 "cells": [
  {
   "cell_type": "code",
   "execution_count": 22,
   "metadata": {},
   "outputs": [
    {
     "name": "stdout",
     "output_type": "stream",
     "text": [
      "[(0, {'fitness': 0.4913896330510299}), (1, {'fitness': 0.23169693428596638}), (2, {'fitness': 0.7118434446473465}), (3, {'fitness': 0.5775080479898008}), (4, {'fitness': 0.5565781142115033})]\n",
      "[(0, 2, {'weight': 0.514895453950686}), (2, 0, {'weight': 0.8171144699265626}), (4, 3, {'weight': 0.7065347548192926})]\n"
     ]
    },
    {
     "data": {
      "image/png": "[encoded data removed]",
      "text/plain": [
       "<matplotlib.figure.Figure at 0x283b118a0f0>"
      ]
     },
     "metadata": {},
     "output_type": "display_data"
    }
   ],
   "source": [
    "# https://www.quantamagazine.org/mathematics-shows-how-to-ensure-evolution-20180626/\n",
    "# put on Erdos-Renyi random directed graphs and see the behavior\n",
    "# the fitness and weights are randomly assigned as well. Uniformly on [0,1] for both\n",
    "\n",
    "import networkx as nx\n",
    "import numpy as np\n",
    "import matplotlib.pyplot as plt\n",
    "\n",
    "#newGraph=nx.erdos_renyi_graph(10, 0.15)\n",
    "newGraph=nx.gnp_random_graph(5, 0.15,directed=True)\n",
    "for node in newGraph.nodes:\n",
    "    newGraph.nodes[node]['fitness']=np.random.ranf()\n",
    "for (s,t) in newGraph.edges():\n",
    "    newGraph.edges[s,t]['weight']=np.random.ranf()\n",
    "print(newGraph.nodes.data())\n",
    "print(newGraph.edges.data())\n",
    "nx.draw(newGraph, with_labels=True, font_weight='bold',arrowsize=20)\n",
    "plt.show()\n",
    "\n",
    "def doARound(currentGraph):\n",
    "    currentVertex=selectIndividualByFitness(currentGraph)\n",
    "    neighbor=selectNeighborByWeight(currentVertex)\n",
    "    currentGraph=replaceNeighborBySource(neighbor,currentVertex)\n",
    "    return currentGraph"
   ]
  },
  {
   "cell_type": "code",
   "execution_count": null,
   "metadata": {},
   "outputs": [],
   "source": []
  }
 ],
 "metadata": {
  "kernelspec": {
   "display_name": "Python 3",
   "language": "python",
   "name": "python3"
  },
  "language_info": {
   "codemirror_mode": {
    "name": "ipython",
    "version": 3
   },
   "file_extension": ".py",
   "mimetype": "text/x-python",
   "name": "python",
   "nbconvert_exporter": "python",
   "pygments_lexer": "ipython3",
   "version": "3.6.4"
  }
 },
 "nbformat": 4,
 "nbformat_minor": 2
}
