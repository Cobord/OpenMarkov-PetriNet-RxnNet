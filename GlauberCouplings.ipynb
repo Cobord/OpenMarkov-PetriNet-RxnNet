{
 "cells": [
  {
   "cell_type": "code",
   "execution_count": 20,
   "metadata": {},
   "outputs": [
    {
     "name": "stdout",
     "output_type": "stream",
     "text": [
      "[[ 1.09935897 -0.36645299  3.54237892]\n",
      " [-0.02290331  0.00763444 -0.01272406]\n",
      " [ 0.56633644 -0.76621989  0.122151  ]]\n"
     ]
    }
   ],
   "source": [
    "# https://arxiv.org/pdf/1803.04738.pdf\n",
    "\n",
    "import numpy as np\n",
    "import tensorflow as tf\n",
    "\n",
    "def initialJ(mData):\n",
    "    (r,c) = mData.shape\n",
    "    mi=np.zeros(r)\n",
    "    Cij=np.zeros((r,r))\n",
    "    Dij=np.zeros((r,r))\n",
    "    for i in range(r):\n",
    "        mi[i]=sum(mData[i])/(c+0.0)\n",
    "        for j in range(r):\n",
    "            Cij[i,j]=np.dot(mData[i],mData[j])\n",
    "            shifted=np.roll(mData[i],1)\n",
    "            shifted[0]=0\n",
    "            Dij[i,j]=np.dot(shifted,mData[j])\n",
    "    for i in range(r):\n",
    "        for j in range(r):\n",
    "            Cij[i,j]=Cij[i,j]-mi[i]*mi[j]\n",
    "            Cij[i,j]=Cij[i,j]/(c)\n",
    "            Dij[i,j]=Dij[i,j]-mi[i]*mi[j]\n",
    "            Dij[i,j]=Dij[i,j]/(c-1)\n",
    "    Aij = np.zeros((r,r))\n",
    "    for i in range(r):\n",
    "        Aij[i,i]=(1-mi[i]**2)\n",
    "    J = np.linalg.inv(Aij)\n",
    "    J = np.matmul(J,Dij)\n",
    "    J = np.matmul(J,np.linalg.inv(Cij))\n",
    "    return J\n",
    "\n",
    "mData = np.array([[1,1,1,1,0,1,1],[0,0,0,0,0,0,1],[0,1,0,1,1,0,1]])\n",
    "print(initialJ(mData))"
   ]
  },
  {
   "cell_type": "code",
   "execution_count": null,
   "metadata": {
    "collapsed": true
   },
   "outputs": [],
   "source": []
  }
 ],
 "metadata": {
  "kernelspec": {
   "display_name": "Python 3",
   "language": "python",
   "name": "python3"
  },
  "language_info": {
   "codemirror_mode": {
    "name": "ipython",
    "version": 3
   },
   "file_extension": ".py",
   "mimetype": "text/x-python",
   "name": "python",
   "nbconvert_exporter": "python",
   "pygments_lexer": "ipython3",
   "version": "3.6.4"
  }
 },
 "nbformat": 4,
 "nbformat_minor": 2
}
